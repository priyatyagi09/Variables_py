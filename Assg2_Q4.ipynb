{
 "cells": [
  {
   "cell_type": "code",
   "execution_count": 2,
   "id": "3a6a4bf2-d1b5-4e62-9760-8770f47f8b19",
   "metadata": {},
   "outputs": [],
   "source": [
    "# Create a file in pyhton or in any other notebook and save it as \"file_name.py\"\n",
    "# Open Command Line and write 'python' and press ENTER\n",
    "# Then copy the path of the file into command line and then write file_name with py extension\n",
    "# and then press ENTER\n",
    "# the ouput of the program will be displayed in the terminal."
   ]
  },
  {
   "cell_type": "code",
   "execution_count": null,
   "id": "1fe68008-0bcf-4f52-bc6f-536c40fe52d3",
   "metadata": {},
   "outputs": [],
   "source": []
  }
 ],
 "metadata": {
  "kernelspec": {
   "display_name": "Python 3 (ipykernel)",
   "language": "python",
   "name": "python3"
  },
  "language_info": {
   "codemirror_mode": {
    "name": "ipython",
    "version": 3
   },
   "file_extension": ".py",
   "mimetype": "text/x-python",
   "name": "python",
   "nbconvert_exporter": "python",
   "pygments_lexer": "ipython3",
   "version": "3.10.8"
  }
 },
 "nbformat": 4,
 "nbformat_minor": 5
}
