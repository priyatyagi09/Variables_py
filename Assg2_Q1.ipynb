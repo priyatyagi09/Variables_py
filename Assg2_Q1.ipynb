{
 "cells": [
  {
   "cell_type": "code",
   "execution_count": 1,
   "id": "e2eef574-3b1e-4177-8dfa-f7667d018af1",
   "metadata": {},
   "outputs": [],
   "source": [
    "# A Comment in Python is written with the help of #"
   ]
  },
  {
   "cell_type": "code",
   "execution_count": 2,
   "id": "26788b08-7fd7-464c-b539-5356a0ee01a9",
   "metadata": {},
   "outputs": [
    {
     "data": {
      "text/plain": [
       "8"
      ]
     },
     "execution_count": 2,
     "metadata": {},
     "output_type": "execute_result"
    }
   ],
   "source": [
    "a=5\n",
    "b=3\n",
    "#Addition can be performed as follows\n",
    "a+b"
   ]
  },
  {
   "cell_type": "code",
   "execution_count": 6,
   "id": "12e7d49d-05ce-47b2-8ef0-b26a79b633de",
   "metadata": {},
   "outputs": [
    {
     "data": {
      "text/plain": [
       "'In Python, Comment can be of two types:\\n    1.Single line Comment which is written with the help of #\\n    2. Multiline Comment which is written with the help of three single quotes which can also be used as a \\n    string\\n'"
      ]
     },
     "execution_count": 6,
     "metadata": {},
     "output_type": "execute_result"
    }
   ],
   "source": [
    "'''In Python, Comment can be of two types:\n",
    "    1.Single line Comment which is written with the help of #\n",
    "    2. Multiline Comment which is written with the help of three single quotes which can also be used as a \n",
    "    string\n",
    "'''"
   ]
  },
  {
   "cell_type": "code",
   "execution_count": null,
   "id": "a13a2efd-2389-4162-9ba1-710dd6e29bf9",
   "metadata": {},
   "outputs": [],
   "source": [
    "\n"
   ]
  }
 ],
 "metadata": {
  "kernelspec": {
   "display_name": "Python 3 (ipykernel)",
   "language": "python",
   "name": "python3"
  },
  "language_info": {
   "codemirror_mode": {
    "name": "ipython",
    "version": 3
   },
   "file_extension": ".py",
   "mimetype": "text/x-python",
   "name": "python",
   "nbconvert_exporter": "python",
   "pygments_lexer": "ipython3",
   "version": "3.10.8"
  }
 },
 "nbformat": 4,
 "nbformat_minor": 5
}
