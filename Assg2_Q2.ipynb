{
 "cells": [
  {
   "cell_type": "code",
   "execution_count": 1,
   "id": "0d98067d-be4b-4ffc-86ee-97b9041480f8",
   "metadata": {},
   "outputs": [],
   "source": [
    "# Variables in Python can be a name,word,letter or character. For example:"
   ]
  },
  {
   "cell_type": "code",
   "execution_count": 10,
   "id": "081d9fff-14bb-4e03-86a8-bd618c3f94e2",
   "metadata": {},
   "outputs": [],
   "source": [
    "# Varibles and their values\n",
    "a=5\n",
    "ajay=37\n",
    "age=43\n",
    "_name='ajay'"
   ]
  },
  {
   "cell_type": "code",
   "execution_count": 3,
   "id": "1a656202-f387-4ace-8ba4-fd47343c9139",
   "metadata": {},
   "outputs": [
    {
     "data": {
      "text/plain": [
       "5"
      ]
     },
     "execution_count": 3,
     "metadata": {},
     "output_type": "execute_result"
    }
   ],
   "source": [
    "a"
   ]
  },
  {
   "cell_type": "code",
   "execution_count": 4,
   "id": "12c4a95f-e3e8-48e3-90e9-a9dc69fdf71e",
   "metadata": {},
   "outputs": [
    {
     "data": {
      "text/plain": [
       "37"
      ]
     },
     "execution_count": 4,
     "metadata": {},
     "output_type": "execute_result"
    }
   ],
   "source": [
    "ajay"
   ]
  },
  {
   "cell_type": "code",
   "execution_count": 5,
   "id": "615797f0-27ba-40e4-b1d6-6fbd65110633",
   "metadata": {},
   "outputs": [
    {
     "data": {
      "text/plain": [
       "43"
      ]
     },
     "execution_count": 5,
     "metadata": {},
     "output_type": "execute_result"
    }
   ],
   "source": [
    "age"
   ]
  },
  {
   "cell_type": "code",
   "execution_count": 7,
   "id": "8dfae302-ebdc-4726-8092-b661d3a3e658",
   "metadata": {},
   "outputs": [
    {
     "data": {
      "text/plain": [
       "'ajay'"
      ]
     },
     "execution_count": 7,
     "metadata": {},
     "output_type": "execute_result"
    }
   ],
   "source": [
    "_name"
   ]
  },
  {
   "cell_type": "code",
   "execution_count": 12,
   "id": "2fffce38-fc8e-4a22-baee-6fbcff885ca0",
   "metadata": {},
   "outputs": [],
   "source": [
    "# variables can be simply declared with any name or character.\n",
    "# Special Character(_) can be used with variable names.\n",
    "# We can not use any reserved keyword as varible name.\n",
    "# Values can be directly assigned to the variables. String values are assigned with the help of ''"
   ]
  },
  {
   "cell_type": "code",
   "execution_count": null,
   "id": "0e41cfae-bbfa-493d-9169-379c1d1a6531",
   "metadata": {},
   "outputs": [],
   "source": []
  }
 ],
 "metadata": {
  "kernelspec": {
   "display_name": "Python 3 (ipykernel)",
   "language": "python",
   "name": "python3"
  },
  "language_info": {
   "codemirror_mode": {
    "name": "ipython",
    "version": 3
   },
   "file_extension": ".py",
   "mimetype": "text/x-python",
   "name": "python",
   "nbconvert_exporter": "python",
   "pygments_lexer": "ipython3",
   "version": "3.10.8"
  }
 },
 "nbformat": 4,
 "nbformat_minor": 5
}
