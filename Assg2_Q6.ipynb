{
 "cells": [
  {
   "cell_type": "code",
   "execution_count": 1,
   "id": "48adbcb0-86b4-4c3c-ad38-8c649fddf73b",
   "metadata": {},
   "outputs": [],
   "source": [
    "# A complex number in Mathematics is represented in the form of a+ib.\n",
    "# a,b are real numbers\n",
    "# i is an imaginary number.\n",
    "# In Python, the complex number is represented by a+bj, where a and b are real numbers \n",
    "# and j is an Imaginary number."
   ]
  },
  {
   "cell_type": "code",
   "execution_count": 2,
   "id": "b6833ad1-c31c-4b34-99bb-ae81483c41f2",
   "metadata": {},
   "outputs": [],
   "source": [
    "num=2+3j"
   ]
  },
  {
   "cell_type": "code",
   "execution_count": 3,
   "id": "dbb8578e-7ca0-44bc-ba63-cfc003f65b04",
   "metadata": {},
   "outputs": [
    {
     "data": {
      "text/plain": [
       "complex"
      ]
     },
     "execution_count": 3,
     "metadata": {},
     "output_type": "execute_result"
    }
   ],
   "source": [
    "type(num)"
   ]
  },
  {
   "cell_type": "code",
   "execution_count": null,
   "id": "759c8171-2269-4a17-9e38-28c5d5cdb7cd",
   "metadata": {},
   "outputs": [],
   "source": []
  }
 ],
 "metadata": {
  "kernelspec": {
   "display_name": "Python 3 (ipykernel)",
   "language": "python",
   "name": "python3"
  },
  "language_info": {
   "codemirror_mode": {
    "name": "ipython",
    "version": 3
   },
   "file_extension": ".py",
   "mimetype": "text/x-python",
   "name": "python",
   "nbconvert_exporter": "python",
   "pygments_lexer": "ipython3",
   "version": "3.10.8"
  }
 },
 "nbformat": 4,
 "nbformat_minor": 5
}
